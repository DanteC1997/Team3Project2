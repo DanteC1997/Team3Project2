{
 "cells": [
  {
   "cell_type": "code",
   "execution_count": 1,
   "id": "5f78cd88",
   "metadata": {},
   "outputs": [],
   "source": [
    "import json\n",
    "import requests\n",
    "import pandas as pd\n"
   ]
  },
  {
   "cell_type": "code",
   "execution_count": 15,
   "id": "7e08dc1d",
   "metadata": {},
   "outputs": [],
   "source": [
    "#API - Population \n",
    "url = \"https://api.data.abs.gov.au/data/ABS,C21_G04_LGA,1.0.0/....2?dimensionAtObservation=AllDimensions&format=csv\"\n",
    "\n"
   ]
  },
  {
   "cell_type": "code",
   "execution_count": 3,
   "id": "3360db0a",
   "metadata": {},
   "outputs": [
    {
     "name": "stdout",
     "output_type": "stream",
     "text": [
      "https://api.data.abs.gov.au/data/ABS,C21_G04_LGA,1.0.0/....2?dimensionAtObservation=AllDimensions&format=csv\n"
     ]
    }
   ],
   "source": [
    "#API - Population\n",
    "response = requests.get(url)\n",
    "print(response.url)"
   ]
  },
  {
   "cell_type": "code",
   "execution_count": 21,
   "id": "d052b5a0",
   "metadata": {},
   "outputs": [
    {
     "name": "stdout",
     "output_type": "stream",
     "text": [
      "                     DATAFLOW AGEINGP  SEXP  REGION REGION_TYPE  STATE  \\\n",
      "0      ABS:C21_G04_LGA(1.0.0)      24     3   24210     LGA2021      2   \n",
      "1      ABS:C21_G04_LGA(1.0.0)      58     2   24410     LGA2021      2   \n",
      "2      ABS:C21_G04_LGA(1.0.0)      60     1   25250     LGA2021      2   \n",
      "3      ABS:C21_G04_LGA(1.0.0)      32     1   25430     LGA2021      2   \n",
      "4      ABS:C21_G04_LGA(1.0.0)      60     3   25710     LGA2021      2   \n",
      "...                       ...     ...   ...     ...         ...    ...   \n",
      "25087  ABS:C21_G04_LGA(1.0.0)      38     2   22410     LGA2021      2   \n",
      "25088  ABS:C21_G04_LGA(1.0.0)      11     2   22490     LGA2021      2   \n",
      "25089  ABS:C21_G04_LGA(1.0.0)      33     3   23430     LGA2021      2   \n",
      "25090  ABS:C21_G04_LGA(1.0.0)   35_39     2   23810     LGA2021      2   \n",
      "25091  ABS:C21_G04_LGA(1.0.0)       8     2   23940     LGA2021      2   \n",
      "\n",
      "       TIME_PERIOD  OBS_VALUE  \n",
      "0             2021       1459  \n",
      "1             2021        764  \n",
      "2             2021        759  \n",
      "3             2021         89  \n",
      "4             2021        970  \n",
      "...            ...        ...  \n",
      "25087         2021        115  \n",
      "25088         2021        174  \n",
      "25089         2021       2128  \n",
      "25090         2021       2448  \n",
      "25091         2021         34  \n",
      "\n",
      "[25092 rows x 8 columns]\n"
     ]
    }
   ],
   "source": [
    "#Put ABS data into DataFrame \n",
    "\n",
    "abs_data = pd.read_csv('https://api.data.abs.gov.au/data/ABS,C21_G04_LGA,1.0.0/....2?dimensionAtObservation=AllDimensions&format=csv')\n",
    "print(abs_data)\n",
    "\n"
   ]
  },
  {
   "cell_type": "code",
   "execution_count": 22,
   "id": "50719297",
   "metadata": {},
   "outputs": [
    {
     "name": "stdout",
     "output_type": "stream",
     "text": [
      "Empty DataFrame\n",
      "Columns: [DATAFLOW, AGEINGP, SEXP, REGION, REGION_TYPE, STATE, TIME_PERIOD, OBS_VALUE]\n",
      "Index: []\n"
     ]
    }
   ],
   "source": [
    "#filter items from abs_data\n",
    "abs_data1=abs_data.query(\"STATE=='2'\")\n",
    "print(abs_data1)\n",
    "\n",
    "\n"
   ]
  },
  {
   "cell_type": "code",
   "execution_count": 36,
   "id": "beb36c55",
   "metadata": {},
   "outputs": [
    {
     "data": {
      "text/html": [
       "<div>\n",
       "<style scoped>\n",
       "    .dataframe tbody tr th:only-of-type {\n",
       "        vertical-align: middle;\n",
       "    }\n",
       "\n",
       "    .dataframe tbody tr th {\n",
       "        vertical-align: top;\n",
       "    }\n",
       "\n",
       "    .dataframe thead th {\n",
       "        text-align: right;\n",
       "    }\n",
       "</style>\n",
       "<table border=\"1\" class=\"dataframe\">\n",
       "  <thead>\n",
       "    <tr style=\"text-align: right;\">\n",
       "      <th></th>\n",
       "      <th>DATAFLOW</th>\n",
       "      <th>AGEINGP</th>\n",
       "      <th>SEXP</th>\n",
       "      <th>REGION</th>\n",
       "      <th>REGION_TYPE</th>\n",
       "      <th>STATE</th>\n",
       "      <th>TIME_PERIOD</th>\n",
       "      <th>OBS_VALUE</th>\n",
       "    </tr>\n",
       "  </thead>\n",
       "  <tbody>\n",
       "    <tr>\n",
       "      <th>0</th>\n",
       "      <td>ABS:C21_G04_LGA(1.0.0)</td>\n",
       "      <td>24</td>\n",
       "      <td>3</td>\n",
       "      <td>24210</td>\n",
       "      <td>LGA2021</td>\n",
       "      <td>2</td>\n",
       "      <td>2021</td>\n",
       "      <td>1459</td>\n",
       "    </tr>\n",
       "    <tr>\n",
       "      <th>1</th>\n",
       "      <td>ABS:C21_G04_LGA(1.0.0)</td>\n",
       "      <td>58</td>\n",
       "      <td>2</td>\n",
       "      <td>24410</td>\n",
       "      <td>LGA2021</td>\n",
       "      <td>2</td>\n",
       "      <td>2021</td>\n",
       "      <td>764</td>\n",
       "    </tr>\n",
       "    <tr>\n",
       "      <th>2</th>\n",
       "      <td>ABS:C21_G04_LGA(1.0.0)</td>\n",
       "      <td>60</td>\n",
       "      <td>1</td>\n",
       "      <td>25250</td>\n",
       "      <td>LGA2021</td>\n",
       "      <td>2</td>\n",
       "      <td>2021</td>\n",
       "      <td>759</td>\n",
       "    </tr>\n",
       "    <tr>\n",
       "      <th>3</th>\n",
       "      <td>ABS:C21_G04_LGA(1.0.0)</td>\n",
       "      <td>32</td>\n",
       "      <td>1</td>\n",
       "      <td>25430</td>\n",
       "      <td>LGA2021</td>\n",
       "      <td>2</td>\n",
       "      <td>2021</td>\n",
       "      <td>89</td>\n",
       "    </tr>\n",
       "    <tr>\n",
       "      <th>4</th>\n",
       "      <td>ABS:C21_G04_LGA(1.0.0)</td>\n",
       "      <td>60</td>\n",
       "      <td>3</td>\n",
       "      <td>25710</td>\n",
       "      <td>LGA2021</td>\n",
       "      <td>2</td>\n",
       "      <td>2021</td>\n",
       "      <td>970</td>\n",
       "    </tr>\n",
       "    <tr>\n",
       "      <th>...</th>\n",
       "      <td>...</td>\n",
       "      <td>...</td>\n",
       "      <td>...</td>\n",
       "      <td>...</td>\n",
       "      <td>...</td>\n",
       "      <td>...</td>\n",
       "      <td>...</td>\n",
       "      <td>...</td>\n",
       "    </tr>\n",
       "    <tr>\n",
       "      <th>25087</th>\n",
       "      <td>ABS:C21_G04_LGA(1.0.0)</td>\n",
       "      <td>38</td>\n",
       "      <td>2</td>\n",
       "      <td>22410</td>\n",
       "      <td>LGA2021</td>\n",
       "      <td>2</td>\n",
       "      <td>2021</td>\n",
       "      <td>115</td>\n",
       "    </tr>\n",
       "    <tr>\n",
       "      <th>25088</th>\n",
       "      <td>ABS:C21_G04_LGA(1.0.0)</td>\n",
       "      <td>11</td>\n",
       "      <td>2</td>\n",
       "      <td>22490</td>\n",
       "      <td>LGA2021</td>\n",
       "      <td>2</td>\n",
       "      <td>2021</td>\n",
       "      <td>174</td>\n",
       "    </tr>\n",
       "    <tr>\n",
       "      <th>25089</th>\n",
       "      <td>ABS:C21_G04_LGA(1.0.0)</td>\n",
       "      <td>33</td>\n",
       "      <td>3</td>\n",
       "      <td>23430</td>\n",
       "      <td>LGA2021</td>\n",
       "      <td>2</td>\n",
       "      <td>2021</td>\n",
       "      <td>2128</td>\n",
       "    </tr>\n",
       "    <tr>\n",
       "      <th>25090</th>\n",
       "      <td>ABS:C21_G04_LGA(1.0.0)</td>\n",
       "      <td>35_39</td>\n",
       "      <td>2</td>\n",
       "      <td>23810</td>\n",
       "      <td>LGA2021</td>\n",
       "      <td>2</td>\n",
       "      <td>2021</td>\n",
       "      <td>2448</td>\n",
       "    </tr>\n",
       "    <tr>\n",
       "      <th>25091</th>\n",
       "      <td>ABS:C21_G04_LGA(1.0.0)</td>\n",
       "      <td>8</td>\n",
       "      <td>2</td>\n",
       "      <td>23940</td>\n",
       "      <td>LGA2021</td>\n",
       "      <td>2</td>\n",
       "      <td>2021</td>\n",
       "      <td>34</td>\n",
       "    </tr>\n",
       "  </tbody>\n",
       "</table>\n",
       "<p>25092 rows × 8 columns</p>\n",
       "</div>"
      ],
      "text/plain": [
       "                     DATAFLOW AGEINGP  SEXP  REGION REGION_TYPE  STATE  \\\n",
       "0      ABS:C21_G04_LGA(1.0.0)      24     3   24210     LGA2021      2   \n",
       "1      ABS:C21_G04_LGA(1.0.0)      58     2   24410     LGA2021      2   \n",
       "2      ABS:C21_G04_LGA(1.0.0)      60     1   25250     LGA2021      2   \n",
       "3      ABS:C21_G04_LGA(1.0.0)      32     1   25430     LGA2021      2   \n",
       "4      ABS:C21_G04_LGA(1.0.0)      60     3   25710     LGA2021      2   \n",
       "...                       ...     ...   ...     ...         ...    ...   \n",
       "25087  ABS:C21_G04_LGA(1.0.0)      38     2   22410     LGA2021      2   \n",
       "25088  ABS:C21_G04_LGA(1.0.0)      11     2   22490     LGA2021      2   \n",
       "25089  ABS:C21_G04_LGA(1.0.0)      33     3   23430     LGA2021      2   \n",
       "25090  ABS:C21_G04_LGA(1.0.0)   35_39     2   23810     LGA2021      2   \n",
       "25091  ABS:C21_G04_LGA(1.0.0)       8     2   23940     LGA2021      2   \n",
       "\n",
       "       TIME_PERIOD  OBS_VALUE  \n",
       "0             2021       1459  \n",
       "1             2021        764  \n",
       "2             2021        759  \n",
       "3             2021         89  \n",
       "4             2021        970  \n",
       "...            ...        ...  \n",
       "25087         2021        115  \n",
       "25088         2021        174  \n",
       "25089         2021       2128  \n",
       "25090         2021       2448  \n",
       "25091         2021         34  \n",
       "\n",
       "[25092 rows x 8 columns]"
      ]
     },
     "execution_count": 36,
     "metadata": {},
     "output_type": "execute_result"
    }
   ],
   "source": [
    "abs_data.loc[abs_data[\"STATE\"]==2]"
   ]
  },
  {
   "cell_type": "code",
   "execution_count": 44,
   "id": "0935f157",
   "metadata": {},
   "outputs": [
    {
     "name": "stdout",
     "output_type": "stream",
     "text": [
      "           SEXP    REGION  STATE  TIME_PERIOD\n",
      "OBS_VALUE                                    \n",
      "0           721  11180352    774       782127\n",
      "3           156   2308532    168       169764\n",
      "4            81   1250782     90        90945\n",
      "5            93   1378832    100       101050\n",
      "6            80   1123082     80        80840\n",
      "...         ...       ...    ...          ...\n",
      "229396        3     27070      2         2021\n",
      "243901        3     23270      2         2021\n",
      "271057        3     22750      2         2021\n",
      "292011        3     27260      2         2021\n",
      "365239        3     21610      2         2021\n",
      "\n",
      "[4453 rows x 4 columns]\n"
     ]
    }
   ],
   "source": [
    "#ABS clean data - API - Total population \n",
    "\n",
    "abs_data_clean= pd.DataFrame(abs_data)\n",
    "\n",
    "print(abs_data_clean.groupby([\"OBS_VALUE\"]).sum())\n"
   ]
  },
  {
   "cell_type": "code",
   "execution_count": 48,
   "id": "0e9e8f52",
   "metadata": {},
   "outputs": [
    {
     "data": {
      "text/plain": [
       "50184"
      ]
     },
     "execution_count": 48,
     "metadata": {},
     "output_type": "execute_result"
    }
   ],
   "source": [
    "abs_data['STATE'].sum()"
   ]
  },
  {
   "cell_type": "code",
   "execution_count": null,
   "id": "a7fd77f2",
   "metadata": {},
   "outputs": [],
   "source": []
  },
  {
   "cell_type": "code",
   "execution_count": 5,
   "id": "dfd85cb8",
   "metadata": {},
   "outputs": [
    {
     "name": "stdout",
     "output_type": "stream",
     "text": [
      "       MB_CODE_2016  LGA_CODE_2020                           LGA_NAME_2020  \\\n",
      "0       20000009499          29499                 No usual address (Vic.)   \n",
      "1       20000010000          20110                              Alpine (S)   \n",
      "2       20000021000          20110                              Alpine (S)   \n",
      "3       20000022000          20110                              Alpine (S)   \n",
      "4       20000023000          20110                              Alpine (S)   \n",
      "...             ...            ...                                     ...   \n",
      "85009   27000003777          29799  Migratory - Offshore - Shipping (Vic.)   \n",
      "85010   27000004777          29799  Migratory - Offshore - Shipping (Vic.)   \n",
      "85011   27000005777          29799  Migratory - Offshore - Shipping (Vic.)   \n",
      "85012   28000000778          29799  Migratory - Offshore - Shipping (Vic.)   \n",
      "85013   29000000779          29799  Migratory - Offshore - Shipping (Vic.)   \n",
      "\n",
      "       STATE_CODE_2016 STATE_NAME_2016  AREA_ALBERS_SQKM  \n",
      "0                    2        Victoria            0.0000  \n",
      "1                    2        Victoria            0.0127  \n",
      "2                    2        Victoria            0.0127  \n",
      "3                    2        Victoria            0.0105  \n",
      "4                    2        Victoria            0.0105  \n",
      "...                ...             ...               ...  \n",
      "85009                2        Victoria            0.0000  \n",
      "85010                2        Victoria            0.0000  \n",
      "85011                2        Victoria            0.0000  \n",
      "85012                2        Victoria            0.0000  \n",
      "85013                2        Victoria            0.0000  \n",
      "\n",
      "[85014 rows x 6 columns]\n"
     ]
    }
   ],
   "source": [
    "#CSV1 - LGA \n",
    "df1 = pd.read_csv('LGA_2020_VIC2.csv')\n",
    "print(df1)"
   ]
  },
  {
   "cell_type": "code",
   "execution_count": 7,
   "id": "67e4b448",
   "metadata": {},
   "outputs": [
    {
     "name": "stdout",
     "output_type": "stream",
     "text": [
      "       LGA_CODE_2020                           LGA_NAME_2020  AREA_ALBERS_SQKM\n",
      "0              29499                 No usual address (Vic.)            0.0000\n",
      "1              20110                              Alpine (S)            0.0127\n",
      "2              20110                              Alpine (S)            0.0127\n",
      "3              20110                              Alpine (S)            0.0105\n",
      "4              20110                              Alpine (S)            0.0105\n",
      "...              ...                                     ...               ...\n",
      "85009          29799  Migratory - Offshore - Shipping (Vic.)            0.0000\n",
      "85010          29799  Migratory - Offshore - Shipping (Vic.)            0.0000\n",
      "85011          29799  Migratory - Offshore - Shipping (Vic.)            0.0000\n",
      "85012          29799  Migratory - Offshore - Shipping (Vic.)            0.0000\n",
      "85013          29799  Migratory - Offshore - Shipping (Vic.)            0.0000\n",
      "\n",
      "[85014 rows x 3 columns]\n"
     ]
    }
   ],
   "source": [
    "#drop unwnated items from df1\n",
    "df1.drop(columns=[\"MB_CODE_2016\",\"STATE_CODE_2016\",\"STATE_NAME_2016\"], inplace= True)\n",
    "print(df1)\n",
    "\n"
   ]
  },
  {
   "cell_type": "code",
   "execution_count": 8,
   "id": "f756c56b",
   "metadata": {},
   "outputs": [
    {
     "data": {
      "text/html": [
       "<div>\n",
       "<style scoped>\n",
       "    .dataframe tbody tr th:only-of-type {\n",
       "        vertical-align: middle;\n",
       "    }\n",
       "\n",
       "    .dataframe tbody tr th {\n",
       "        vertical-align: top;\n",
       "    }\n",
       "\n",
       "    .dataframe thead th {\n",
       "        text-align: right;\n",
       "    }\n",
       "</style>\n",
       "<table border=\"1\" class=\"dataframe\">\n",
       "  <thead>\n",
       "    <tr style=\"text-align: right;\">\n",
       "      <th></th>\n",
       "      <th>LGA_CODE_2020</th>\n",
       "      <th>AREA_ALBERS_SQKM</th>\n",
       "    </tr>\n",
       "  </thead>\n",
       "  <tbody>\n",
       "    <tr>\n",
       "      <th>count</th>\n",
       "      <td>85014.000000</td>\n",
       "      <td>85014.000000</td>\n",
       "    </tr>\n",
       "    <tr>\n",
       "      <th>mean</th>\n",
       "      <td>23904.760357</td>\n",
       "      <td>2.675978</td>\n",
       "    </tr>\n",
       "    <tr>\n",
       "      <th>std</th>\n",
       "      <td>2117.225178</td>\n",
       "      <td>27.492022</td>\n",
       "    </tr>\n",
       "    <tr>\n",
       "      <th>min</th>\n",
       "      <td>20110.000000</td>\n",
       "      <td>0.000000</td>\n",
       "    </tr>\n",
       "    <tr>\n",
       "      <th>25%</th>\n",
       "      <td>22170.000000</td>\n",
       "      <td>0.021900</td>\n",
       "    </tr>\n",
       "    <tr>\n",
       "      <th>50%</th>\n",
       "      <td>23670.000000</td>\n",
       "      <td>0.034800</td>\n",
       "    </tr>\n",
       "    <tr>\n",
       "      <th>75%</th>\n",
       "      <td>25430.000000</td>\n",
       "      <td>0.068400</td>\n",
       "    </tr>\n",
       "    <tr>\n",
       "      <th>max</th>\n",
       "      <td>29799.000000</td>\n",
       "      <td>5172.342600</td>\n",
       "    </tr>\n",
       "  </tbody>\n",
       "</table>\n",
       "</div>"
      ],
      "text/plain": [
       "       LGA_CODE_2020  AREA_ALBERS_SQKM\n",
       "count   85014.000000      85014.000000\n",
       "mean    23904.760357          2.675978\n",
       "std      2117.225178         27.492022\n",
       "min     20110.000000          0.000000\n",
       "25%     22170.000000          0.021900\n",
       "50%     23670.000000          0.034800\n",
       "75%     25430.000000          0.068400\n",
       "max     29799.000000       5172.342600"
      ]
     },
     "execution_count": 8,
     "metadata": {},
     "output_type": "execute_result"
    }
   ],
   "source": [
    "df1.describe()"
   ]
  },
  {
   "cell_type": "code",
   "execution_count": 9,
   "id": "30cafcb3",
   "metadata": {},
   "outputs": [
    {
     "name": "stdout",
     "output_type": "stream",
     "text": [
      "<class 'pandas.core.frame.DataFrame'>\n",
      "RangeIndex: 85014 entries, 0 to 85013\n",
      "Data columns (total 3 columns):\n",
      " #   Column            Non-Null Count  Dtype  \n",
      "---  ------            --------------  -----  \n",
      " 0   LGA_CODE_2020     85014 non-null  int64  \n",
      " 1   LGA_NAME_2020     85014 non-null  object \n",
      " 2   AREA_ALBERS_SQKM  85014 non-null  float64\n",
      "dtypes: float64(1), int64(1), object(1)\n",
      "memory usage: 1.9+ MB\n"
     ]
    }
   ],
   "source": [
    "df1.info()"
   ]
  },
  {
   "cell_type": "code",
   "execution_count": 11,
   "id": "14f5bd4c",
   "metadata": {},
   "outputs": [
    {
     "data": {
      "text/html": [
       "<div>\n",
       "<style scoped>\n",
       "    .dataframe tbody tr th:only-of-type {\n",
       "        vertical-align: middle;\n",
       "    }\n",
       "\n",
       "    .dataframe tbody tr th {\n",
       "        vertical-align: top;\n",
       "    }\n",
       "\n",
       "    .dataframe thead th {\n",
       "        text-align: right;\n",
       "    }\n",
       "</style>\n",
       "<table border=\"1\" class=\"dataframe\">\n",
       "  <thead>\n",
       "    <tr style=\"text-align: right;\">\n",
       "      <th></th>\n",
       "      <th>diagnosis_date</th>\n",
       "      <th>Postcode</th>\n",
       "      <th>acquired</th>\n",
       "      <th>Localgovernmentarea</th>\n",
       "    </tr>\n",
       "  </thead>\n",
       "  <tbody>\n",
       "    <tr>\n",
       "      <th>0</th>\n",
       "      <td>2020-03-11</td>\n",
       "      <td>3217</td>\n",
       "      <td>Travel overseas</td>\n",
       "      <td>Greater Geelong (C)</td>\n",
       "    </tr>\n",
       "    <tr>\n",
       "      <th>1</th>\n",
       "      <td>2020-03-08</td>\n",
       "      <td>3942</td>\n",
       "      <td>Travel overseas</td>\n",
       "      <td>Mornington Peninsula (S)</td>\n",
       "    </tr>\n",
       "    <tr>\n",
       "      <th>2</th>\n",
       "      <td>2020-03-09</td>\n",
       "      <td>3206</td>\n",
       "      <td>Travel overseas</td>\n",
       "      <td>Port Phillip (C)</td>\n",
       "    </tr>\n",
       "    <tr>\n",
       "      <th>3</th>\n",
       "      <td>2020-08-01</td>\n",
       "      <td>3754</td>\n",
       "      <td>Contact with a confirmed case</td>\n",
       "      <td>Whittlesea (C)</td>\n",
       "    </tr>\n",
       "    <tr>\n",
       "      <th>4</th>\n",
       "      <td>2020-03-01</td>\n",
       "      <td>3802</td>\n",
       "      <td>Travel overseas</td>\n",
       "      <td>Casey (C)</td>\n",
       "    </tr>\n",
       "  </tbody>\n",
       "</table>\n",
       "</div>"
      ],
      "text/plain": [
       "  diagnosis_date  Postcode                       acquired  \\\n",
       "0     2020-03-11      3217                Travel overseas   \n",
       "1     2020-03-08      3942                Travel overseas   \n",
       "2     2020-03-09      3206                Travel overseas   \n",
       "3     2020-08-01      3754  Contact with a confirmed case   \n",
       "4     2020-03-01      3802                Travel overseas   \n",
       "\n",
       "        Localgovernmentarea  \n",
       "0       Greater Geelong (C)  \n",
       "1  Mornington Peninsula (S)  \n",
       "2          Port Phillip (C)  \n",
       "3            Whittlesea (C)  \n",
       "4                 Casey (C)  "
      ]
     },
     "execution_count": 11,
     "metadata": {},
     "output_type": "execute_result"
    }
   ],
   "source": [
    "#Importing CSV 2 file - Covid \n",
    "#CSV DHS File\n",
    "\n",
    "df2 = pd.read_csv(\"https://www.dhhs.vic.gov.au/ncov-covid-cases-by-lga-source-csv\")\n",
    "df2.head()"
   ]
  },
  {
   "cell_type": "code",
   "execution_count": 12,
   "id": "1011604d",
   "metadata": {},
   "outputs": [
    {
     "data": {
      "text/html": [
       "<div>\n",
       "<style scoped>\n",
       "    .dataframe tbody tr th:only-of-type {\n",
       "        vertical-align: middle;\n",
       "    }\n",
       "\n",
       "    .dataframe tbody tr th {\n",
       "        vertical-align: top;\n",
       "    }\n",
       "\n",
       "    .dataframe thead th {\n",
       "        text-align: right;\n",
       "    }\n",
       "</style>\n",
       "<table border=\"1\" class=\"dataframe\">\n",
       "  <thead>\n",
       "    <tr style=\"text-align: right;\">\n",
       "      <th></th>\n",
       "      <th>Postcode</th>\n",
       "    </tr>\n",
       "  </thead>\n",
       "  <tbody>\n",
       "    <tr>\n",
       "      <th>count</th>\n",
       "      <td>1.094279e+06</td>\n",
       "    </tr>\n",
       "    <tr>\n",
       "      <th>mean</th>\n",
       "      <td>3.273654e+03</td>\n",
       "    </tr>\n",
       "    <tr>\n",
       "      <th>std</th>\n",
       "      <td>3.036205e+02</td>\n",
       "    </tr>\n",
       "    <tr>\n",
       "      <th>min</th>\n",
       "      <td>3.000000e+03</td>\n",
       "    </tr>\n",
       "    <tr>\n",
       "      <th>25%</th>\n",
       "      <td>3.060000e+03</td>\n",
       "    </tr>\n",
       "    <tr>\n",
       "      <th>50%</th>\n",
       "      <td>3.150000e+03</td>\n",
       "    </tr>\n",
       "    <tr>\n",
       "      <th>75%</th>\n",
       "      <td>3.350000e+03</td>\n",
       "    </tr>\n",
       "    <tr>\n",
       "      <th>max</th>\n",
       "      <td>3.999000e+03</td>\n",
       "    </tr>\n",
       "  </tbody>\n",
       "</table>\n",
       "</div>"
      ],
      "text/plain": [
       "           Postcode\n",
       "count  1.094279e+06\n",
       "mean   3.273654e+03\n",
       "std    3.036205e+02\n",
       "min    3.000000e+03\n",
       "25%    3.060000e+03\n",
       "50%    3.150000e+03\n",
       "75%    3.350000e+03\n",
       "max    3.999000e+03"
      ]
     },
     "execution_count": 12,
     "metadata": {},
     "output_type": "execute_result"
    }
   ],
   "source": [
    "df2.describe()\n"
   ]
  },
  {
   "cell_type": "code",
   "execution_count": 13,
   "id": "1dbb8b23",
   "metadata": {},
   "outputs": [
    {
     "name": "stdout",
     "output_type": "stream",
     "text": [
      "<class 'pandas.core.frame.DataFrame'>\n",
      "RangeIndex: 1094279 entries, 0 to 1094278\n",
      "Data columns (total 4 columns):\n",
      " #   Column               Non-Null Count    Dtype \n",
      "---  ------               --------------    ----- \n",
      " 0   diagnosis_date       1094279 non-null  object\n",
      " 1   Postcode             1094279 non-null  int64 \n",
      " 2   acquired             1094279 non-null  object\n",
      " 3   Localgovernmentarea  1094279 non-null  object\n",
      "dtypes: int64(1), object(3)\n",
      "memory usage: 33.4+ MB\n"
     ]
    }
   ],
   "source": [
    "df2.info()"
   ]
  },
  {
   "cell_type": "code",
   "execution_count": 14,
   "id": "209ea639",
   "metadata": {},
   "outputs": [],
   "source": [
    "#Display everything \n",
    "pd.set_option('display.max_colwidth', None)"
   ]
  },
  {
   "cell_type": "code",
   "execution_count": 19,
   "id": "2ccb3692",
   "metadata": {},
   "outputs": [],
   "source": [
    "#Merge df1 with df2 to get new data\n",
    "\n"
   ]
  },
  {
   "cell_type": "code",
   "execution_count": null,
   "id": "081049d3",
   "metadata": {},
   "outputs": [],
   "source": [
    "# Count total male / female - API "
   ]
  },
  {
   "cell_type": "code",
   "execution_count": null,
   "id": "4eac4248",
   "metadata": {},
   "outputs": [],
   "source": []
  },
  {
   "cell_type": "code",
   "execution_count": null,
   "id": "e77393e9",
   "metadata": {},
   "outputs": [],
   "source": []
  },
  {
   "cell_type": "code",
   "execution_count": null,
   "id": "09b95923",
   "metadata": {},
   "outputs": [],
   "source": []
  },
  {
   "cell_type": "code",
   "execution_count": null,
   "id": "f61521af",
   "metadata": {},
   "outputs": [],
   "source": []
  },
  {
   "cell_type": "code",
   "execution_count": null,
   "id": "232fc289",
   "metadata": {},
   "outputs": [],
   "source": []
  }
 ],
 "metadata": {
  "kernelspec": {
   "display_name": "Python 3 (ipykernel)",
   "language": "python",
   "name": "python3"
  },
  "language_info": {
   "codemirror_mode": {
    "name": "ipython",
    "version": 3
   },
   "file_extension": ".py",
   "mimetype": "text/x-python",
   "name": "python",
   "nbconvert_exporter": "python",
   "pygments_lexer": "ipython3",
   "version": "3.9.12"
  }
 },
 "nbformat": 4,
 "nbformat_minor": 5
}
