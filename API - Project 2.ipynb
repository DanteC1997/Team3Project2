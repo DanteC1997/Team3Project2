{
 "cells": [
  {
   "cell_type": "code",
   "execution_count": 1,
   "id": "5f78cd88",
   "metadata": {},
   "outputs": [],
   "source": [
    "import json\n",
    "import requests\n",
    "import pandas as pd\n",
    "from io import StringIO\n",
    "import numpy as np\n",
    "\n"
   ]
  },
  {
   "cell_type": "code",
   "execution_count": 2,
   "id": "7e08dc1d",
   "metadata": {},
   "outputs": [],
   "source": [
    "#API - Population \n",
    "url = \"https://api.data.abs.gov.au/data/C21_G04_LGA/....2\"\n",
    "\n"
   ]
  },
  {
   "cell_type": "code",
   "execution_count": 3,
   "id": "5cd145e2",
   "metadata": {},
   "outputs": [
    {
     "data": {
      "text/html": [
       "<div>\n",
       "<style scoped>\n",
       "    .dataframe tbody tr th:only-of-type {\n",
       "        vertical-align: middle;\n",
       "    }\n",
       "\n",
       "    .dataframe tbody tr th {\n",
       "        vertical-align: top;\n",
       "    }\n",
       "\n",
       "    .dataframe thead th {\n",
       "        text-align: right;\n",
       "    }\n",
       "</style>\n",
       "<table border=\"1\" class=\"dataframe\">\n",
       "  <thead>\n",
       "    <tr style=\"text-align: right;\">\n",
       "      <th></th>\n",
       "      <th>DATAFLOW</th>\n",
       "      <th>AGEINGP: Age</th>\n",
       "      <th>SEXP: Sex</th>\n",
       "      <th>REGION: Region</th>\n",
       "      <th>REGION_TYPE: Region Type</th>\n",
       "      <th>STATE: State</th>\n",
       "      <th>TIME_PERIOD: Time Period</th>\n",
       "      <th>OBS_VALUE</th>\n",
       "    </tr>\n",
       "  </thead>\n",
       "  <tbody>\n",
       "    <tr>\n",
       "      <th>0</th>\n",
       "      <td>ABS:C21_G04_LGA(1.0.0)</td>\n",
       "      <td>24: 24</td>\n",
       "      <td>3: Persons</td>\n",
       "      <td>24210: Manningham</td>\n",
       "      <td>LGA2021: Local Government Areas (2021)</td>\n",
       "      <td>2: Victoria</td>\n",
       "      <td>2021</td>\n",
       "      <td>1459</td>\n",
       "    </tr>\n",
       "    <tr>\n",
       "      <th>1</th>\n",
       "      <td>ABS:C21_G04_LGA(1.0.0)</td>\n",
       "      <td>58: 58</td>\n",
       "      <td>2: Females</td>\n",
       "      <td>24410: Maroondah</td>\n",
       "      <td>LGA2021: Local Government Areas (2021)</td>\n",
       "      <td>2: Victoria</td>\n",
       "      <td>2021</td>\n",
       "      <td>764</td>\n",
       "    </tr>\n",
       "    <tr>\n",
       "      <th>2</th>\n",
       "      <td>ABS:C21_G04_LGA(1.0.0)</td>\n",
       "      <td>60: 60</td>\n",
       "      <td>1: Males</td>\n",
       "      <td>25250: Moreland</td>\n",
       "      <td>LGA2021: Local Government Areas (2021)</td>\n",
       "      <td>2: Victoria</td>\n",
       "      <td>2021</td>\n",
       "      <td>759</td>\n",
       "    </tr>\n",
       "    <tr>\n",
       "      <th>3</th>\n",
       "      <td>ABS:C21_G04_LGA(1.0.0)</td>\n",
       "      <td>32: 32</td>\n",
       "      <td>1: Males</td>\n",
       "      <td>25430: Mount Alexander</td>\n",
       "      <td>LGA2021: Local Government Areas (2021)</td>\n",
       "      <td>2: Victoria</td>\n",
       "      <td>2021</td>\n",
       "      <td>89</td>\n",
       "    </tr>\n",
       "    <tr>\n",
       "      <th>4</th>\n",
       "      <td>ABS:C21_G04_LGA(1.0.0)</td>\n",
       "      <td>60: 60</td>\n",
       "      <td>3: Persons</td>\n",
       "      <td>25710: Nillumbik</td>\n",
       "      <td>LGA2021: Local Government Areas (2021)</td>\n",
       "      <td>2: Victoria</td>\n",
       "      <td>2021</td>\n",
       "      <td>970</td>\n",
       "    </tr>\n",
       "  </tbody>\n",
       "</table>\n",
       "</div>"
      ],
      "text/plain": [
       "                 DATAFLOW AGEINGP: Age   SEXP: Sex          REGION: Region  \\\n",
       "0  ABS:C21_G04_LGA(1.0.0)       24: 24  3: Persons       24210: Manningham   \n",
       "1  ABS:C21_G04_LGA(1.0.0)       58: 58  2: Females        24410: Maroondah   \n",
       "2  ABS:C21_G04_LGA(1.0.0)       60: 60    1: Males         25250: Moreland   \n",
       "3  ABS:C21_G04_LGA(1.0.0)       32: 32    1: Males  25430: Mount Alexander   \n",
       "4  ABS:C21_G04_LGA(1.0.0)       60: 60  3: Persons        25710: Nillumbik   \n",
       "\n",
       "                 REGION_TYPE: Region Type STATE: State  \\\n",
       "0  LGA2021: Local Government Areas (2021)  2: Victoria   \n",
       "1  LGA2021: Local Government Areas (2021)  2: Victoria   \n",
       "2  LGA2021: Local Government Areas (2021)  2: Victoria   \n",
       "3  LGA2021: Local Government Areas (2021)  2: Victoria   \n",
       "4  LGA2021: Local Government Areas (2021)  2: Victoria   \n",
       "\n",
       "   TIME_PERIOD: Time Period  OBS_VALUE  \n",
       "0                      2021       1459  \n",
       "1                      2021        764  \n",
       "2                      2021        759  \n",
       "3                      2021         89  \n",
       "4                      2021        970  "
      ]
     },
     "execution_count": 3,
     "metadata": {},
     "output_type": "execute_result"
    }
   ],
   "source": [
    "headers = {\"Accept\": \"application/vnd.sdmx.data+csv;labels=both\"}\n",
    "req = requests.get(url, headers=headers)\n",
    "data = StringIO(req.text)\n",
    "\n",
    "df = pd.read_csv(data)\n",
    "df.head()"
   ]
  },
  {
   "cell_type": "code",
   "execution_count": 4,
   "id": "80e6468d",
   "metadata": {},
   "outputs": [
    {
     "data": {
      "text/html": [
       "<div>\n",
       "<style scoped>\n",
       "    .dataframe tbody tr th:only-of-type {\n",
       "        vertical-align: middle;\n",
       "    }\n",
       "\n",
       "    .dataframe tbody tr th {\n",
       "        vertical-align: top;\n",
       "    }\n",
       "\n",
       "    .dataframe thead th {\n",
       "        text-align: right;\n",
       "    }\n",
       "</style>\n",
       "<table border=\"1\" class=\"dataframe\">\n",
       "  <thead>\n",
       "    <tr style=\"text-align: right;\">\n",
       "      <th></th>\n",
       "      <th>DATAFLOW</th>\n",
       "      <th>AGEINGP: Age</th>\n",
       "      <th>SEXP: Sex</th>\n",
       "      <th>REGION: Region</th>\n",
       "      <th>REGION_TYPE: Region Type</th>\n",
       "      <th>STATE: State</th>\n",
       "      <th>TIME_PERIOD: Time Period</th>\n",
       "      <th>OBS_VALUE</th>\n",
       "      <th>Region ID</th>\n",
       "    </tr>\n",
       "  </thead>\n",
       "  <tbody>\n",
       "    <tr>\n",
       "      <th>0</th>\n",
       "      <td>ABS:C21_G04_LGA(1.0.0)</td>\n",
       "      <td>24: 24</td>\n",
       "      <td>3: Persons</td>\n",
       "      <td>24210: Manningham</td>\n",
       "      <td>LGA2021: Local Government Areas (2021)</td>\n",
       "      <td>2: Victoria</td>\n",
       "      <td>2021</td>\n",
       "      <td>1459</td>\n",
       "      <td>24210</td>\n",
       "    </tr>\n",
       "    <tr>\n",
       "      <th>1</th>\n",
       "      <td>ABS:C21_G04_LGA(1.0.0)</td>\n",
       "      <td>58: 58</td>\n",
       "      <td>2: Females</td>\n",
       "      <td>24410: Maroondah</td>\n",
       "      <td>LGA2021: Local Government Areas (2021)</td>\n",
       "      <td>2: Victoria</td>\n",
       "      <td>2021</td>\n",
       "      <td>764</td>\n",
       "      <td>24410</td>\n",
       "    </tr>\n",
       "    <tr>\n",
       "      <th>2</th>\n",
       "      <td>ABS:C21_G04_LGA(1.0.0)</td>\n",
       "      <td>60: 60</td>\n",
       "      <td>1: Males</td>\n",
       "      <td>25250: Moreland</td>\n",
       "      <td>LGA2021: Local Government Areas (2021)</td>\n",
       "      <td>2: Victoria</td>\n",
       "      <td>2021</td>\n",
       "      <td>759</td>\n",
       "      <td>25250</td>\n",
       "    </tr>\n",
       "    <tr>\n",
       "      <th>3</th>\n",
       "      <td>ABS:C21_G04_LGA(1.0.0)</td>\n",
       "      <td>32: 32</td>\n",
       "      <td>1: Males</td>\n",
       "      <td>25430: Mount Alexander</td>\n",
       "      <td>LGA2021: Local Government Areas (2021)</td>\n",
       "      <td>2: Victoria</td>\n",
       "      <td>2021</td>\n",
       "      <td>89</td>\n",
       "      <td>25430</td>\n",
       "    </tr>\n",
       "    <tr>\n",
       "      <th>4</th>\n",
       "      <td>ABS:C21_G04_LGA(1.0.0)</td>\n",
       "      <td>60: 60</td>\n",
       "      <td>3: Persons</td>\n",
       "      <td>25710: Nillumbik</td>\n",
       "      <td>LGA2021: Local Government Areas (2021)</td>\n",
       "      <td>2: Victoria</td>\n",
       "      <td>2021</td>\n",
       "      <td>970</td>\n",
       "      <td>25710</td>\n",
       "    </tr>\n",
       "  </tbody>\n",
       "</table>\n",
       "</div>"
      ],
      "text/plain": [
       "                 DATAFLOW AGEINGP: Age   SEXP: Sex          REGION: Region  \\\n",
       "0  ABS:C21_G04_LGA(1.0.0)       24: 24  3: Persons       24210: Manningham   \n",
       "1  ABS:C21_G04_LGA(1.0.0)       58: 58  2: Females        24410: Maroondah   \n",
       "2  ABS:C21_G04_LGA(1.0.0)       60: 60    1: Males         25250: Moreland   \n",
       "3  ABS:C21_G04_LGA(1.0.0)       32: 32    1: Males  25430: Mount Alexander   \n",
       "4  ABS:C21_G04_LGA(1.0.0)       60: 60  3: Persons        25710: Nillumbik   \n",
       "\n",
       "                 REGION_TYPE: Region Type STATE: State  \\\n",
       "0  LGA2021: Local Government Areas (2021)  2: Victoria   \n",
       "1  LGA2021: Local Government Areas (2021)  2: Victoria   \n",
       "2  LGA2021: Local Government Areas (2021)  2: Victoria   \n",
       "3  LGA2021: Local Government Areas (2021)  2: Victoria   \n",
       "4  LGA2021: Local Government Areas (2021)  2: Victoria   \n",
       "\n",
       "   TIME_PERIOD: Time Period  OBS_VALUE Region ID  \n",
       "0                      2021       1459     24210  \n",
       "1                      2021        764     24410  \n",
       "2                      2021        759     25250  \n",
       "3                      2021         89     25430  \n",
       "4                      2021        970     25710  "
      ]
     },
     "execution_count": 4,
     "metadata": {},
     "output_type": "execute_result"
    }
   ],
   "source": [
    "df[\"Region ID\"]=df[\"REGION: Region\"].map(lambda x:x.split(\":\")[0])\n",
    "df.head()"
   ]
  },
  {
   "cell_type": "code",
   "execution_count": 5,
   "id": "78dec7d4",
   "metadata": {},
   "outputs": [
    {
     "data": {
      "text/html": [
       "<div>\n",
       "<style scoped>\n",
       "    .dataframe tbody tr th:only-of-type {\n",
       "        vertical-align: middle;\n",
       "    }\n",
       "\n",
       "    .dataframe tbody tr th {\n",
       "        vertical-align: top;\n",
       "    }\n",
       "\n",
       "    .dataframe thead th {\n",
       "        text-align: right;\n",
       "    }\n",
       "</style>\n",
       "<table border=\"1\" class=\"dataframe\">\n",
       "  <thead>\n",
       "    <tr style=\"text-align: right;\">\n",
       "      <th></th>\n",
       "      <th>DATAFLOW</th>\n",
       "      <th>AGEINGP: Age</th>\n",
       "      <th>SEXP: Sex</th>\n",
       "      <th>REGION: Region</th>\n",
       "      <th>REGION_TYPE: Region Type</th>\n",
       "      <th>STATE: State</th>\n",
       "      <th>TIME_PERIOD: Time Period</th>\n",
       "      <th>OBS_VALUE</th>\n",
       "      <th>Region ID</th>\n",
       "      <th>Region Name</th>\n",
       "    </tr>\n",
       "  </thead>\n",
       "  <tbody>\n",
       "    <tr>\n",
       "      <th>0</th>\n",
       "      <td>ABS:C21_G04_LGA(1.0.0)</td>\n",
       "      <td>24: 24</td>\n",
       "      <td>3: Persons</td>\n",
       "      <td>24210: Manningham</td>\n",
       "      <td>LGA2021: Local Government Areas (2021)</td>\n",
       "      <td>2: Victoria</td>\n",
       "      <td>2021</td>\n",
       "      <td>1459</td>\n",
       "      <td>24210</td>\n",
       "      <td>Manningham</td>\n",
       "    </tr>\n",
       "    <tr>\n",
       "      <th>1</th>\n",
       "      <td>ABS:C21_G04_LGA(1.0.0)</td>\n",
       "      <td>58: 58</td>\n",
       "      <td>2: Females</td>\n",
       "      <td>24410: Maroondah</td>\n",
       "      <td>LGA2021: Local Government Areas (2021)</td>\n",
       "      <td>2: Victoria</td>\n",
       "      <td>2021</td>\n",
       "      <td>764</td>\n",
       "      <td>24410</td>\n",
       "      <td>Maroondah</td>\n",
       "    </tr>\n",
       "    <tr>\n",
       "      <th>2</th>\n",
       "      <td>ABS:C21_G04_LGA(1.0.0)</td>\n",
       "      <td>60: 60</td>\n",
       "      <td>1: Males</td>\n",
       "      <td>25250: Moreland</td>\n",
       "      <td>LGA2021: Local Government Areas (2021)</td>\n",
       "      <td>2: Victoria</td>\n",
       "      <td>2021</td>\n",
       "      <td>759</td>\n",
       "      <td>25250</td>\n",
       "      <td>Moreland</td>\n",
       "    </tr>\n",
       "    <tr>\n",
       "      <th>3</th>\n",
       "      <td>ABS:C21_G04_LGA(1.0.0)</td>\n",
       "      <td>32: 32</td>\n",
       "      <td>1: Males</td>\n",
       "      <td>25430: Mount Alexander</td>\n",
       "      <td>LGA2021: Local Government Areas (2021)</td>\n",
       "      <td>2: Victoria</td>\n",
       "      <td>2021</td>\n",
       "      <td>89</td>\n",
       "      <td>25430</td>\n",
       "      <td>Mount Alexander</td>\n",
       "    </tr>\n",
       "    <tr>\n",
       "      <th>4</th>\n",
       "      <td>ABS:C21_G04_LGA(1.0.0)</td>\n",
       "      <td>60: 60</td>\n",
       "      <td>3: Persons</td>\n",
       "      <td>25710: Nillumbik</td>\n",
       "      <td>LGA2021: Local Government Areas (2021)</td>\n",
       "      <td>2: Victoria</td>\n",
       "      <td>2021</td>\n",
       "      <td>970</td>\n",
       "      <td>25710</td>\n",
       "      <td>Nillumbik</td>\n",
       "    </tr>\n",
       "  </tbody>\n",
       "</table>\n",
       "</div>"
      ],
      "text/plain": [
       "                 DATAFLOW AGEINGP: Age   SEXP: Sex          REGION: Region  \\\n",
       "0  ABS:C21_G04_LGA(1.0.0)       24: 24  3: Persons       24210: Manningham   \n",
       "1  ABS:C21_G04_LGA(1.0.0)       58: 58  2: Females        24410: Maroondah   \n",
       "2  ABS:C21_G04_LGA(1.0.0)       60: 60    1: Males         25250: Moreland   \n",
       "3  ABS:C21_G04_LGA(1.0.0)       32: 32    1: Males  25430: Mount Alexander   \n",
       "4  ABS:C21_G04_LGA(1.0.0)       60: 60  3: Persons        25710: Nillumbik   \n",
       "\n",
       "                 REGION_TYPE: Region Type STATE: State  \\\n",
       "0  LGA2021: Local Government Areas (2021)  2: Victoria   \n",
       "1  LGA2021: Local Government Areas (2021)  2: Victoria   \n",
       "2  LGA2021: Local Government Areas (2021)  2: Victoria   \n",
       "3  LGA2021: Local Government Areas (2021)  2: Victoria   \n",
       "4  LGA2021: Local Government Areas (2021)  2: Victoria   \n",
       "\n",
       "   TIME_PERIOD: Time Period  OBS_VALUE Region ID       Region Name  \n",
       "0                      2021       1459     24210        Manningham  \n",
       "1                      2021        764     24410         Maroondah  \n",
       "2                      2021        759     25250          Moreland  \n",
       "3                      2021         89     25430   Mount Alexander  \n",
       "4                      2021        970     25710         Nillumbik  "
      ]
     },
     "execution_count": 5,
     "metadata": {},
     "output_type": "execute_result"
    }
   ],
   "source": [
    "df[\"Region Name\"]=df[\"REGION: Region\"].map(lambda x:x.split(\":\")[1])\n",
    "df.head()"
   ]
  },
  {
   "cell_type": "code",
   "execution_count": 6,
   "id": "232fc289",
   "metadata": {},
   "outputs": [
    {
     "data": {
      "text/html": [
       "<div>\n",
       "<style scoped>\n",
       "    .dataframe tbody tr th:only-of-type {\n",
       "        vertical-align: middle;\n",
       "    }\n",
       "\n",
       "    .dataframe tbody tr th {\n",
       "        vertical-align: top;\n",
       "    }\n",
       "\n",
       "    .dataframe thead th {\n",
       "        text-align: right;\n",
       "    }\n",
       "</style>\n",
       "<table border=\"1\" class=\"dataframe\">\n",
       "  <thead>\n",
       "    <tr style=\"text-align: right;\">\n",
       "      <th></th>\n",
       "      <th>DATAFLOW</th>\n",
       "      <th>AGEINGP: Age</th>\n",
       "      <th>SEXP: Sex</th>\n",
       "      <th>REGION: Region</th>\n",
       "      <th>REGION_TYPE: Region Type</th>\n",
       "      <th>STATE: State</th>\n",
       "      <th>TIME_PERIOD: Time Period</th>\n",
       "      <th>OBS_VALUE</th>\n",
       "      <th>Region ID</th>\n",
       "      <th>Region Name</th>\n",
       "      <th>3: Persons</th>\n",
       "      <th>2: Females</th>\n",
       "      <th>1:Males</th>\n",
       "    </tr>\n",
       "  </thead>\n",
       "  <tbody>\n",
       "    <tr>\n",
       "      <th>0</th>\n",
       "      <td>ABS:C21_G04_LGA(1.0.0)</td>\n",
       "      <td>24: 24</td>\n",
       "      <td>3: Persons</td>\n",
       "      <td>24210: Manningham</td>\n",
       "      <td>LGA2021: Local Government Areas (2021)</td>\n",
       "      <td>2: Victoria</td>\n",
       "      <td>2021</td>\n",
       "      <td>1459</td>\n",
       "      <td>24210</td>\n",
       "      <td>Manningham</td>\n",
       "      <td>NaN</td>\n",
       "      <td>NaN</td>\n",
       "      <td>NaN</td>\n",
       "    </tr>\n",
       "    <tr>\n",
       "      <th>1</th>\n",
       "      <td>ABS:C21_G04_LGA(1.0.0)</td>\n",
       "      <td>58: 58</td>\n",
       "      <td>2: Females</td>\n",
       "      <td>24410: Maroondah</td>\n",
       "      <td>LGA2021: Local Government Areas (2021)</td>\n",
       "      <td>2: Victoria</td>\n",
       "      <td>2021</td>\n",
       "      <td>764</td>\n",
       "      <td>24410</td>\n",
       "      <td>Maroondah</td>\n",
       "      <td>NaN</td>\n",
       "      <td>NaN</td>\n",
       "      <td>NaN</td>\n",
       "    </tr>\n",
       "    <tr>\n",
       "      <th>2</th>\n",
       "      <td>ABS:C21_G04_LGA(1.0.0)</td>\n",
       "      <td>60: 60</td>\n",
       "      <td>1: Males</td>\n",
       "      <td>25250: Moreland</td>\n",
       "      <td>LGA2021: Local Government Areas (2021)</td>\n",
       "      <td>2: Victoria</td>\n",
       "      <td>2021</td>\n",
       "      <td>759</td>\n",
       "      <td>25250</td>\n",
       "      <td>Moreland</td>\n",
       "      <td>NaN</td>\n",
       "      <td>NaN</td>\n",
       "      <td>NaN</td>\n",
       "    </tr>\n",
       "    <tr>\n",
       "      <th>3</th>\n",
       "      <td>ABS:C21_G04_LGA(1.0.0)</td>\n",
       "      <td>32: 32</td>\n",
       "      <td>1: Males</td>\n",
       "      <td>25430: Mount Alexander</td>\n",
       "      <td>LGA2021: Local Government Areas (2021)</td>\n",
       "      <td>2: Victoria</td>\n",
       "      <td>2021</td>\n",
       "      <td>89</td>\n",
       "      <td>25430</td>\n",
       "      <td>Mount Alexander</td>\n",
       "      <td>NaN</td>\n",
       "      <td>NaN</td>\n",
       "      <td>NaN</td>\n",
       "    </tr>\n",
       "    <tr>\n",
       "      <th>4</th>\n",
       "      <td>ABS:C21_G04_LGA(1.0.0)</td>\n",
       "      <td>60: 60</td>\n",
       "      <td>3: Persons</td>\n",
       "      <td>25710: Nillumbik</td>\n",
       "      <td>LGA2021: Local Government Areas (2021)</td>\n",
       "      <td>2: Victoria</td>\n",
       "      <td>2021</td>\n",
       "      <td>970</td>\n",
       "      <td>25710</td>\n",
       "      <td>Nillumbik</td>\n",
       "      <td>NaN</td>\n",
       "      <td>NaN</td>\n",
       "      <td>NaN</td>\n",
       "    </tr>\n",
       "  </tbody>\n",
       "</table>\n",
       "</div>"
      ],
      "text/plain": [
       "                 DATAFLOW AGEINGP: Age   SEXP: Sex          REGION: Region  \\\n",
       "0  ABS:C21_G04_LGA(1.0.0)       24: 24  3: Persons       24210: Manningham   \n",
       "1  ABS:C21_G04_LGA(1.0.0)       58: 58  2: Females        24410: Maroondah   \n",
       "2  ABS:C21_G04_LGA(1.0.0)       60: 60    1: Males         25250: Moreland   \n",
       "3  ABS:C21_G04_LGA(1.0.0)       32: 32    1: Males  25430: Mount Alexander   \n",
       "4  ABS:C21_G04_LGA(1.0.0)       60: 60  3: Persons        25710: Nillumbik   \n",
       "\n",
       "                 REGION_TYPE: Region Type STATE: State  \\\n",
       "0  LGA2021: Local Government Areas (2021)  2: Victoria   \n",
       "1  LGA2021: Local Government Areas (2021)  2: Victoria   \n",
       "2  LGA2021: Local Government Areas (2021)  2: Victoria   \n",
       "3  LGA2021: Local Government Areas (2021)  2: Victoria   \n",
       "4  LGA2021: Local Government Areas (2021)  2: Victoria   \n",
       "\n",
       "   TIME_PERIOD: Time Period  OBS_VALUE Region ID       Region Name 3: Persons  \\\n",
       "0                      2021       1459     24210        Manningham        NaN   \n",
       "1                      2021        764     24410         Maroondah        NaN   \n",
       "2                      2021        759     25250          Moreland        NaN   \n",
       "3                      2021         89     25430   Mount Alexander        NaN   \n",
       "4                      2021        970     25710         Nillumbik        NaN   \n",
       "\n",
       "  2: Females 1:Males  \n",
       "0        NaN     NaN  \n",
       "1        NaN     NaN  \n",
       "2        NaN     NaN  \n",
       "3        NaN     NaN  \n",
       "4        NaN     NaN  "
      ]
     },
     "execution_count": 6,
     "metadata": {},
     "output_type": "execute_result"
    }
   ],
   "source": [
    "df[[\"3: Persons\",\"2: Females\",\"1:Males\"]] = df['SEXP: Sex'].str.extract(r'\\[\"(?:([^\"]*)\",\")?(\\d+)(?:\",\"(\\d+))?\"',expand=False)\n",
    "df.head()"
   ]
  },
  {
   "cell_type": "code",
   "execution_count": 7,
   "id": "f61521af",
   "metadata": {},
   "outputs": [
    {
     "data": {
      "text/html": [
       "<div>\n",
       "<style scoped>\n",
       "    .dataframe tbody tr th:only-of-type {\n",
       "        vertical-align: middle;\n",
       "    }\n",
       "\n",
       "    .dataframe tbody tr th {\n",
       "        vertical-align: top;\n",
       "    }\n",
       "\n",
       "    .dataframe thead th {\n",
       "        text-align: right;\n",
       "    }\n",
       "</style>\n",
       "<table border=\"1\" class=\"dataframe\">\n",
       "  <thead>\n",
       "    <tr style=\"text-align: right;\">\n",
       "      <th></th>\n",
       "      <th>SEXP: Sex</th>\n",
       "      <th>REGION: Region</th>\n",
       "      <th>OBS_VALUE</th>\n",
       "      <th>Region ID</th>\n",
       "      <th>Region Name</th>\n",
       "    </tr>\n",
       "  </thead>\n",
       "  <tbody>\n",
       "    <tr>\n",
       "      <th>0</th>\n",
       "      <td>3: Persons</td>\n",
       "      <td>24210: Manningham</td>\n",
       "      <td>1459</td>\n",
       "      <td>24210</td>\n",
       "      <td>Manningham</td>\n",
       "    </tr>\n",
       "    <tr>\n",
       "      <th>1</th>\n",
       "      <td>2: Females</td>\n",
       "      <td>24410: Maroondah</td>\n",
       "      <td>764</td>\n",
       "      <td>24410</td>\n",
       "      <td>Maroondah</td>\n",
       "    </tr>\n",
       "    <tr>\n",
       "      <th>2</th>\n",
       "      <td>1: Males</td>\n",
       "      <td>25250: Moreland</td>\n",
       "      <td>759</td>\n",
       "      <td>25250</td>\n",
       "      <td>Moreland</td>\n",
       "    </tr>\n",
       "    <tr>\n",
       "      <th>3</th>\n",
       "      <td>1: Males</td>\n",
       "      <td>25430: Mount Alexander</td>\n",
       "      <td>89</td>\n",
       "      <td>25430</td>\n",
       "      <td>Mount Alexander</td>\n",
       "    </tr>\n",
       "    <tr>\n",
       "      <th>4</th>\n",
       "      <td>3: Persons</td>\n",
       "      <td>25710: Nillumbik</td>\n",
       "      <td>970</td>\n",
       "      <td>25710</td>\n",
       "      <td>Nillumbik</td>\n",
       "    </tr>\n",
       "  </tbody>\n",
       "</table>\n",
       "</div>"
      ],
      "text/plain": [
       "    SEXP: Sex          REGION: Region  OBS_VALUE Region ID       Region Name\n",
       "0  3: Persons       24210: Manningham       1459     24210        Manningham\n",
       "1  2: Females        24410: Maroondah        764     24410         Maroondah\n",
       "2    1: Males         25250: Moreland        759     25250          Moreland\n",
       "3    1: Males  25430: Mount Alexander         89     25430   Mount Alexander\n",
       "4  3: Persons        25710: Nillumbik        970     25710         Nillumbik"
      ]
     },
     "execution_count": 7,
     "metadata": {},
     "output_type": "execute_result"
    }
   ],
   "source": [
    "#drop unwnated items from df\n",
    "\n",
    "df.drop(columns=[\"DATAFLOW\",\"AGEINGP: Age\",\"REGION_TYPE: Region Type\",\"STATE: State\",\"TIME_PERIOD: Time Period\",\"3: Persons\",\"2: Females\",\"1:Males\"], inplace= True)\n",
    "df.head()\n",
    "\n"
   ]
  },
  {
   "cell_type": "code",
   "execution_count": 9,
   "id": "294e4bb6",
   "metadata": {},
   "outputs": [
    {
     "data": {
      "text/html": [
       "<div>\n",
       "<style scoped>\n",
       "    .dataframe tbody tr th:only-of-type {\n",
       "        vertical-align: middle;\n",
       "    }\n",
       "\n",
       "    .dataframe tbody tr th {\n",
       "        vertical-align: top;\n",
       "    }\n",
       "\n",
       "    .dataframe thead th {\n",
       "        text-align: right;\n",
       "    }\n",
       "</style>\n",
       "<table border=\"1\" class=\"dataframe\">\n",
       "  <thead>\n",
       "    <tr style=\"text-align: right;\">\n",
       "      <th></th>\n",
       "      <th>SEXP: Sex</th>\n",
       "      <th>REGION: Region</th>\n",
       "      <th>OBS_VALUE</th>\n",
       "      <th>Region ID</th>\n",
       "      <th>Region Name</th>\n",
       "    </tr>\n",
       "  </thead>\n",
       "  <tbody>\n",
       "    <tr>\n",
       "      <th>0</th>\n",
       "      <td>3: Persons</td>\n",
       "      <td>24210: Manningham</td>\n",
       "      <td>1459</td>\n",
       "      <td>24210</td>\n",
       "      <td>Manningham</td>\n",
       "    </tr>\n",
       "    <tr>\n",
       "      <th>4</th>\n",
       "      <td>3: Persons</td>\n",
       "      <td>25710: Nillumbik</td>\n",
       "      <td>970</td>\n",
       "      <td>25710</td>\n",
       "      <td>Nillumbik</td>\n",
       "    </tr>\n",
       "    <tr>\n",
       "      <th>5</th>\n",
       "      <td>3: Persons</td>\n",
       "      <td>25900: Port Phillip</td>\n",
       "      <td>2467</td>\n",
       "      <td>25900</td>\n",
       "      <td>Port Phillip</td>\n",
       "    </tr>\n",
       "    <tr>\n",
       "      <th>6</th>\n",
       "      <td>3: Persons</td>\n",
       "      <td>26260: Southern Grampians</td>\n",
       "      <td>852</td>\n",
       "      <td>26260</td>\n",
       "      <td>Southern Grampians</td>\n",
       "    </tr>\n",
       "    <tr>\n",
       "      <th>9</th>\n",
       "      <td>3: Persons</td>\n",
       "      <td>29399: Unincorporated Vic</td>\n",
       "      <td>7</td>\n",
       "      <td>29399</td>\n",
       "      <td>Unincorporated Vic</td>\n",
       "    </tr>\n",
       "  </tbody>\n",
       "</table>\n",
       "</div>"
      ],
      "text/plain": [
       "    SEXP: Sex             REGION: Region  OBS_VALUE Region ID  \\\n",
       "0  3: Persons          24210: Manningham       1459     24210   \n",
       "4  3: Persons           25710: Nillumbik        970     25710   \n",
       "5  3: Persons        25900: Port Phillip       2467     25900   \n",
       "6  3: Persons  26260: Southern Grampians        852     26260   \n",
       "9  3: Persons  29399: Unincorporated Vic          7     29399   \n",
       "\n",
       "           Region Name  \n",
       "0           Manningham  \n",
       "4            Nillumbik  \n",
       "5         Port Phillip  \n",
       "6   Southern Grampians  \n",
       "9   Unincorporated Vic  "
      ]
     },
     "execution_count": 9,
     "metadata": {},
     "output_type": "execute_result"
    }
   ],
   "source": [
    "\n",
    "ABS_Clean=df[df[\"SEXP: Sex\"] == '3: Persons'] \n",
    "ABS_Clean.head()"
   ]
  },
  {
   "cell_type": "code",
   "execution_count": 10,
   "id": "0729b147",
   "metadata": {},
   "outputs": [
    {
     "name": "stderr",
     "output_type": "stream",
     "text": [
      "c:\\Users\\user\\anaconda3\\envs\\bootcamp\\lib\\site-packages\\pandas\\core\\frame.py:5047: SettingWithCopyWarning: \n",
      "A value is trying to be set on a copy of a slice from a DataFrame\n",
      "\n",
      "See the caveats in the documentation: https://pandas.pydata.org/pandas-docs/stable/user_guide/indexing.html#returning-a-view-versus-a-copy\n",
      "  errors=errors,\n"
     ]
    },
    {
     "data": {
      "text/html": [
       "<div>\n",
       "<style scoped>\n",
       "    .dataframe tbody tr th:only-of-type {\n",
       "        vertical-align: middle;\n",
       "    }\n",
       "\n",
       "    .dataframe tbody tr th {\n",
       "        vertical-align: top;\n",
       "    }\n",
       "\n",
       "    .dataframe thead th {\n",
       "        text-align: right;\n",
       "    }\n",
       "</style>\n",
       "<table border=\"1\" class=\"dataframe\">\n",
       "  <thead>\n",
       "    <tr style=\"text-align: right;\">\n",
       "      <th></th>\n",
       "      <th>SEXP: Sex</th>\n",
       "      <th>REGION: Region</th>\n",
       "      <th>Population</th>\n",
       "      <th>Region ID</th>\n",
       "      <th>Region Name</th>\n",
       "    </tr>\n",
       "  </thead>\n",
       "  <tbody>\n",
       "    <tr>\n",
       "      <th>0</th>\n",
       "      <td>3: Persons</td>\n",
       "      <td>24210: Manningham</td>\n",
       "      <td>1459</td>\n",
       "      <td>24210</td>\n",
       "      <td>Manningham</td>\n",
       "    </tr>\n",
       "    <tr>\n",
       "      <th>4</th>\n",
       "      <td>3: Persons</td>\n",
       "      <td>25710: Nillumbik</td>\n",
       "      <td>970</td>\n",
       "      <td>25710</td>\n",
       "      <td>Nillumbik</td>\n",
       "    </tr>\n",
       "    <tr>\n",
       "      <th>5</th>\n",
       "      <td>3: Persons</td>\n",
       "      <td>25900: Port Phillip</td>\n",
       "      <td>2467</td>\n",
       "      <td>25900</td>\n",
       "      <td>Port Phillip</td>\n",
       "    </tr>\n",
       "    <tr>\n",
       "      <th>6</th>\n",
       "      <td>3: Persons</td>\n",
       "      <td>26260: Southern Grampians</td>\n",
       "      <td>852</td>\n",
       "      <td>26260</td>\n",
       "      <td>Southern Grampians</td>\n",
       "    </tr>\n",
       "    <tr>\n",
       "      <th>9</th>\n",
       "      <td>3: Persons</td>\n",
       "      <td>29399: Unincorporated Vic</td>\n",
       "      <td>7</td>\n",
       "      <td>29399</td>\n",
       "      <td>Unincorporated Vic</td>\n",
       "    </tr>\n",
       "  </tbody>\n",
       "</table>\n",
       "</div>"
      ],
      "text/plain": [
       "    SEXP: Sex             REGION: Region  Population Region ID  \\\n",
       "0  3: Persons          24210: Manningham        1459     24210   \n",
       "4  3: Persons           25710: Nillumbik         970     25710   \n",
       "5  3: Persons        25900: Port Phillip        2467     25900   \n",
       "6  3: Persons  26260: Southern Grampians         852     26260   \n",
       "9  3: Persons  29399: Unincorporated Vic           7     29399   \n",
       "\n",
       "           Region Name  \n",
       "0           Manningham  \n",
       "4            Nillumbik  \n",
       "5         Port Phillip  \n",
       "6   Southern Grampians  \n",
       "9   Unincorporated Vic  "
      ]
     },
     "execution_count": 10,
     "metadata": {},
     "output_type": "execute_result"
    }
   ],
   "source": [
    "#rename value\n",
    "\n",
    "ABS_Clean.rename(columns={'OBS_VALUE': 'Population'}, inplace=True)\n",
    "ABS_Clean.head()"
   ]
  },
  {
   "cell_type": "code",
   "execution_count": 11,
   "id": "b8d1ead8",
   "metadata": {},
   "outputs": [
    {
     "name": "stderr",
     "output_type": "stream",
     "text": [
      "c:\\Users\\user\\anaconda3\\envs\\bootcamp\\lib\\site-packages\\pandas\\core\\frame.py:4913: SettingWithCopyWarning: \n",
      "A value is trying to be set on a copy of a slice from a DataFrame\n",
      "\n",
      "See the caveats in the documentation: https://pandas.pydata.org/pandas-docs/stable/user_guide/indexing.html#returning-a-view-versus-a-copy\n",
      "  errors=errors,\n"
     ]
    },
    {
     "data": {
      "text/html": [
       "<div>\n",
       "<style scoped>\n",
       "    .dataframe tbody tr th:only-of-type {\n",
       "        vertical-align: middle;\n",
       "    }\n",
       "\n",
       "    .dataframe tbody tr th {\n",
       "        vertical-align: top;\n",
       "    }\n",
       "\n",
       "    .dataframe thead th {\n",
       "        text-align: right;\n",
       "    }\n",
       "</style>\n",
       "<table border=\"1\" class=\"dataframe\">\n",
       "  <thead>\n",
       "    <tr style=\"text-align: right;\">\n",
       "      <th></th>\n",
       "      <th>Population</th>\n",
       "      <th>Region ID</th>\n",
       "      <th>Region Name</th>\n",
       "    </tr>\n",
       "  </thead>\n",
       "  <tbody>\n",
       "    <tr>\n",
       "      <th>0</th>\n",
       "      <td>1459</td>\n",
       "      <td>24210</td>\n",
       "      <td>Manningham</td>\n",
       "    </tr>\n",
       "    <tr>\n",
       "      <th>4</th>\n",
       "      <td>970</td>\n",
       "      <td>25710</td>\n",
       "      <td>Nillumbik</td>\n",
       "    </tr>\n",
       "    <tr>\n",
       "      <th>5</th>\n",
       "      <td>2467</td>\n",
       "      <td>25900</td>\n",
       "      <td>Port Phillip</td>\n",
       "    </tr>\n",
       "    <tr>\n",
       "      <th>6</th>\n",
       "      <td>852</td>\n",
       "      <td>26260</td>\n",
       "      <td>Southern Grampians</td>\n",
       "    </tr>\n",
       "    <tr>\n",
       "      <th>9</th>\n",
       "      <td>7</td>\n",
       "      <td>29399</td>\n",
       "      <td>Unincorporated Vic</td>\n",
       "    </tr>\n",
       "  </tbody>\n",
       "</table>\n",
       "</div>"
      ],
      "text/plain": [
       "   Population Region ID          Region Name\n",
       "0        1459     24210           Manningham\n",
       "4         970     25710            Nillumbik\n",
       "5        2467     25900         Port Phillip\n",
       "6         852     26260   Southern Grampians\n",
       "9           7     29399   Unincorporated Vic"
      ]
     },
     "execution_count": 11,
     "metadata": {},
     "output_type": "execute_result"
    }
   ],
   "source": [
    "#drop unwnated items from df2\n",
    "\n",
    "ABS_Clean.drop(columns=[\"SEXP: Sex\",\"REGION: Region\"], inplace= True)\n",
    "ABS_Clean.head()\n",
    "\n"
   ]
  },
  {
   "cell_type": "code",
   "execution_count": 12,
   "id": "49715b4a",
   "metadata": {},
   "outputs": [],
   "source": [
    "ABS_Clean.to_csv('ABS_Clean')"
   ]
  },
  {
   "cell_type": "code",
   "execution_count": 22,
   "id": "5eb4d507",
   "metadata": {},
   "outputs": [
    {
     "data": {
      "text/html": [
       "<div>\n",
       "<style scoped>\n",
       "    .dataframe tbody tr th:only-of-type {\n",
       "        vertical-align: middle;\n",
       "    }\n",
       "\n",
       "    .dataframe tbody tr th {\n",
       "        vertical-align: top;\n",
       "    }\n",
       "\n",
       "    .dataframe thead th {\n",
       "        text-align: right;\n",
       "    }\n",
       "</style>\n",
       "<table border=\"1\" class=\"dataframe\">\n",
       "  <thead>\n",
       "    <tr style=\"text-align: right;\">\n",
       "      <th></th>\n",
       "      <th>ID</th>\n",
       "      <th>Population</th>\n",
       "      <th>Region ID</th>\n",
       "      <th>Region Name</th>\n",
       "    </tr>\n",
       "  </thead>\n",
       "  <tbody>\n",
       "    <tr>\n",
       "      <th>0</th>\n",
       "      <td>0</td>\n",
       "      <td>1459</td>\n",
       "      <td>24210</td>\n",
       "      <td>Manningham</td>\n",
       "    </tr>\n",
       "    <tr>\n",
       "      <th>1</th>\n",
       "      <td>4</td>\n",
       "      <td>970</td>\n",
       "      <td>25710</td>\n",
       "      <td>Nillumbik</td>\n",
       "    </tr>\n",
       "    <tr>\n",
       "      <th>2</th>\n",
       "      <td>5</td>\n",
       "      <td>2467</td>\n",
       "      <td>25900</td>\n",
       "      <td>Port Phillip</td>\n",
       "    </tr>\n",
       "    <tr>\n",
       "      <th>3</th>\n",
       "      <td>6</td>\n",
       "      <td>852</td>\n",
       "      <td>26260</td>\n",
       "      <td>Southern Grampians</td>\n",
       "    </tr>\n",
       "    <tr>\n",
       "      <th>4</th>\n",
       "      <td>9</td>\n",
       "      <td>7</td>\n",
       "      <td>29399</td>\n",
       "      <td>Unincorporated Vic</td>\n",
       "    </tr>\n",
       "  </tbody>\n",
       "</table>\n",
       "</div>"
      ],
      "text/plain": [
       "   ID  Population  Region ID          Region Name\n",
       "0   0        1459      24210           Manningham\n",
       "1   4         970      25710            Nillumbik\n",
       "2   5        2467      25900         Port Phillip\n",
       "3   6         852      26260   Southern Grampians\n",
       "4   9           7      29399   Unincorporated Vic"
      ]
     },
     "execution_count": 22,
     "metadata": {},
     "output_type": "execute_result"
    }
   ],
   "source": [
    "ABS_Clean=pd.read_csv(\"ABS_CLEAN\")\n",
    "ABS_Clean.head()"
   ]
  },
  {
   "cell_type": "code",
   "execution_count": 24,
   "id": "d2257ebf",
   "metadata": {},
   "outputs": [],
   "source": [
    "ABS_Clean = ABS_Clean.apply(lambda x: \"{:},\".format(x))\n"
   ]
  },
  {
   "cell_type": "code",
   "execution_count": null,
   "id": "3360db0a",
   "metadata": {},
   "outputs": [
    {
     "ename": "",
     "evalue": "",
     "output_type": "error",
     "traceback": [
      "\u001b[1;31mFailed to start the Kernel. \n",
      "Unable to start Kernel 'bootcamp (Python 3.7.13)' due to connection timeout. \n",
      "View Jupyter <a href='command:jupyter.viewOutput'>log</a> for further details."
     ]
    }
   ],
   "source": [
    "#API - Population\n",
    "#response = requests.get(url)\n",
    "#print(response.url)"
   ]
  },
  {
   "cell_type": "code",
   "execution_count": null,
   "id": "d052b5a0",
   "metadata": {},
   "outputs": [
    {
     "ename": "",
     "evalue": "",
     "output_type": "error",
     "traceback": [
      "\u001b[1;31mFailed to start the Kernel. \n",
      "Unable to start Kernel 'bootcamp (Python 3.7.13)' due to connection timeout. \n",
      "View Jupyter <a href='command:jupyter.viewOutput'>log</a> for further details."
     ]
    }
   ],
   "source": [
    "#Put ABS data into DataFrame \n",
    "\n",
    "#abs_data = pd.read_csv('https://api.data.abs.gov.au/data/ABS,C21_G04_LGA,1.0.0/....2?dimensionAtObservation=AllDimensions&format=csv')\n",
    "#print(abs_data)\n",
    "#abs_data.head()\n"
   ]
  },
  {
   "cell_type": "code",
   "execution_count": null,
   "id": "beb36c55",
   "metadata": {},
   "outputs": [
    {
     "ename": "",
     "evalue": "",
     "output_type": "error",
     "traceback": [
      "\u001b[1;31mFailed to start the Kernel. \n",
      "Unable to start Kernel 'bootcamp (Python 3.7.13)' due to connection timeout. \n",
      "View Jupyter <a href='command:jupyter.viewOutput'>log</a> for further details."
     ]
    }
   ],
   "source": [
    "#API\n",
    "#abs_data.loc[abs_data[\"STATE\"]==2]"
   ]
  },
  {
   "cell_type": "code",
   "execution_count": null,
   "id": "0935f157",
   "metadata": {},
   "outputs": [
    {
     "ename": "",
     "evalue": "",
     "output_type": "error",
     "traceback": [
      "\u001b[1;31mFailed to start the Kernel. \n",
      "Unable to start Kernel 'bootcamp (Python 3.7.13)' due to connection timeout. \n",
      "View Jupyter <a href='command:jupyter.viewOutput'>log</a> for further details."
     ]
    }
   ],
   "source": [
    "#ABS clean data - API - Total population \n",
    "\n",
    "#abs_data_clean= pd.DataFrame(abs_data)\n",
    "\n",
    "#print(abs_data_clean.groupby([\"OBS_VALUE\"]).sum())\n"
   ]
  },
  {
   "cell_type": "code",
   "execution_count": null,
   "id": "0e9e8f52",
   "metadata": {},
   "outputs": [
    {
     "ename": "",
     "evalue": "",
     "output_type": "error",
     "traceback": [
      "\u001b[1;31mFailed to start the Kernel. \n",
      "Unable to start Kernel 'bootcamp (Python 3.7.13)' due to connection timeout. \n",
      "View Jupyter <a href='command:jupyter.viewOutput'>log</a> for further details."
     ]
    }
   ],
   "source": [
    "#api\n",
    "#abs_data['STATE'].sum()"
   ]
  },
  {
   "cell_type": "code",
   "execution_count": null,
   "id": "a7fd77f2",
   "metadata": {},
   "outputs": [
    {
     "ename": "",
     "evalue": "",
     "output_type": "error",
     "traceback": [
      "\u001b[1;31mFailed to start the Kernel. \n",
      "Unable to start Kernel 'bootcamp (Python 3.7.13)' due to connection timeout. \n",
      "View Jupyter <a href='command:jupyter.viewOutput'>log</a> for further details."
     ]
    }
   ],
   "source": [
    "#CSV0 - Adding new CSV - LGA - Population"
   ]
  },
  {
   "cell_type": "code",
   "execution_count": null,
   "id": "4eac4248",
   "metadata": {},
   "outputs": [
    {
     "ename": "",
     "evalue": "",
     "output_type": "error",
     "traceback": [
      "\u001b[1;31mFailed to start the Kernel. \n",
      "Unable to start Kernel 'bootcamp (Python 3.7.13)' due to connection timeout. \n",
      "View Jupyter <a href='command:jupyter.viewOutput'>log</a> for further details."
     ]
    }
   ],
   "source": [
    "#CSV0\n",
    "#df = pd.read_csv('LGAVICPOP/2021Census_G01_VIC_LGA.csv')\n",
    "#print(df)"
   ]
  },
  {
   "cell_type": "code",
   "execution_count": null,
   "id": "09b95923",
   "metadata": {},
   "outputs": [
    {
     "ename": "",
     "evalue": "",
     "output_type": "error",
     "traceback": [
      "\u001b[1;31mFailed to start the Kernel. \n",
      "Unable to start Kernel 'bootcamp (Python 3.7.13)' due to connection timeout. \n",
      "View Jupyter <a href='command:jupyter.viewOutput'>log</a> for further details."
     ]
    }
   ],
   "source": [
    "#clean data - dropping unwanted items from dataframe\n",
    "\n",
    "#population_LGA = df[['LGA_CODE_2021','Tot_P_P']].copy()\n",
    "#print(population_LGA)\n"
   ]
  },
  {
   "cell_type": "code",
   "execution_count": null,
   "id": "e77393e9",
   "metadata": {},
   "outputs": [
    {
     "ename": "",
     "evalue": "",
     "output_type": "error",
     "traceback": [
      "\u001b[1;31mFailed to start the Kernel. \n",
      "Unable to start Kernel 'bootcamp (Python 3.7.13)' due to connection timeout. \n",
      "View Jupyter <a href='command:jupyter.viewOutput'>log</a> for further details."
     ]
    }
   ],
   "source": [
    "#Providing the total sum of population \n",
    "#population_LGA['Tot_P_P'].sum()\n"
   ]
  },
  {
   "cell_type": "code",
   "execution_count": null,
   "id": "dfd85cb8",
   "metadata": {},
   "outputs": [
    {
     "ename": "",
     "evalue": "",
     "output_type": "error",
     "traceback": [
      "\u001b[1;31mFailed to start the Kernel. \n",
      "Unable to start Kernel 'bootcamp (Python 3.7.13)' due to connection timeout. \n",
      "View Jupyter <a href='command:jupyter.viewOutput'>log</a> for further details."
     ]
    }
   ],
   "source": [
    "#CSV1 - LGA - CODE\n",
    "df1 = pd.read_csv('LGA_2020_VIC2.csv')\n",
    "df1.head()"
   ]
  },
  {
   "cell_type": "code",
   "execution_count": null,
   "id": "67e4b448",
   "metadata": {},
   "outputs": [
    {
     "ename": "",
     "evalue": "",
     "output_type": "error",
     "traceback": [
      "\u001b[1;31mFailed to start the Kernel. \n",
      "Unable to start Kernel 'bootcamp (Python 3.7.13)' due to connection timeout. \n",
      "View Jupyter <a href='command:jupyter.viewOutput'>log</a> for further details."
     ]
    }
   ],
   "source": [
    "#drop unwnated items from df1\n",
    "df1.drop(columns=[\"MB_CODE_2016\",\"STATE_CODE_2016\",\"STATE_NAME_2016\"], inplace= True)\n",
    "df1.head()\n",
    "\n"
   ]
  },
  {
   "cell_type": "code",
   "execution_count": null,
   "id": "f756c56b",
   "metadata": {},
   "outputs": [
    {
     "ename": "",
     "evalue": "",
     "output_type": "error",
     "traceback": [
      "\u001b[1;31mFailed to start the Kernel. \n",
      "Unable to start Kernel 'bootcamp (Python 3.7.13)' due to connection timeout. \n",
      "View Jupyter <a href='command:jupyter.viewOutput'>log</a> for further details."
     ]
    }
   ],
   "source": [
    "#df1.describe()"
   ]
  },
  {
   "cell_type": "code",
   "execution_count": null,
   "id": "30cafcb3",
   "metadata": {},
   "outputs": [
    {
     "ename": "",
     "evalue": "",
     "output_type": "error",
     "traceback": [
      "\u001b[1;31mFailed to start the Kernel. \n",
      "Unable to start Kernel 'bootcamp (Python 3.7.13)' due to connection timeout. \n",
      "View Jupyter <a href='command:jupyter.viewOutput'>log</a> for further details."
     ]
    }
   ],
   "source": [
    "#df1.info()"
   ]
  },
  {
   "cell_type": "code",
   "execution_count": null,
   "id": "14f5bd4c",
   "metadata": {},
   "outputs": [
    {
     "ename": "",
     "evalue": "",
     "output_type": "error",
     "traceback": [
      "\u001b[1;31mFailed to start the Kernel. \n",
      "Unable to start Kernel 'bootcamp (Python 3.7.13)' due to connection timeout. \n",
      "View Jupyter <a href='command:jupyter.viewOutput'>log</a> for further details."
     ]
    }
   ],
   "source": [
    "#Importing CSV 2 file - Covid \n",
    "#CSV DHS File\n",
    "\n",
    "#df2 = pd.read_csv(\"https://www.dhhs.vic.gov.au/ncov-covid-cases-by-lga-source-csv\")\n",
    "#df2.head()"
   ]
  },
  {
   "cell_type": "code",
   "execution_count": null,
   "id": "5bdea5f1",
   "metadata": {},
   "outputs": [
    {
     "ename": "",
     "evalue": "",
     "output_type": "error",
     "traceback": [
      "\u001b[1;31mFailed to start the Kernel. \n",
      "Unable to start Kernel 'bootcamp (Python 3.7.13)' due to connection timeout. \n",
      "View Jupyter <a href='command:jupyter.viewOutput'>log</a> for further details."
     ]
    }
   ],
   "source": [
    "#df2[\"year\"]=df2[\"diagnosis_date\"].map(lambda x:x[0:4])"
   ]
  },
  {
   "cell_type": "code",
   "execution_count": null,
   "id": "91278a53",
   "metadata": {
    "scrolled": true
   },
   "outputs": [
    {
     "ename": "",
     "evalue": "",
     "output_type": "error",
     "traceback": [
      "\u001b[1;31mFailed to start the Kernel. \n",
      "Unable to start Kernel 'bootcamp (Python 3.7.13)' due to connection timeout. \n",
      "View Jupyter <a href='command:jupyter.viewOutput'>log</a> for further details."
     ]
    }
   ],
   "source": [
    "#df2.head()"
   ]
  },
  {
   "cell_type": "code",
   "execution_count": null,
   "id": "975276d4",
   "metadata": {},
   "outputs": [
    {
     "ename": "",
     "evalue": "",
     "output_type": "error",
     "traceback": [
      "\u001b[1;31mFailed to start the Kernel. \n",
      "Unable to start Kernel 'bootcamp (Python 3.7.13)' due to connection timeout. \n",
      "View Jupyter <a href='command:jupyter.viewOutput'>log</a> for further details."
     ]
    }
   ],
   "source": [
    "#df2.info()"
   ]
  },
  {
   "cell_type": "code",
   "execution_count": null,
   "id": "1011604d",
   "metadata": {},
   "outputs": [
    {
     "ename": "",
     "evalue": "",
     "output_type": "error",
     "traceback": [
      "\u001b[1;31mFailed to start the Kernel. \n",
      "Unable to start Kernel 'bootcamp (Python 3.7.13)' due to connection timeout. \n",
      "View Jupyter <a href='command:jupyter.viewOutput'>log</a> for further details."
     ]
    }
   ],
   "source": [
    "#df2.describe()\n"
   ]
  },
  {
   "cell_type": "code",
   "execution_count": null,
   "id": "209ea639",
   "metadata": {},
   "outputs": [
    {
     "ename": "",
     "evalue": "",
     "output_type": "error",
     "traceback": [
      "\u001b[1;31mFailed to start the Kernel. \n",
      "Unable to start Kernel 'bootcamp (Python 3.7.13)' due to connection timeout. \n",
      "View Jupyter <a href='command:jupyter.viewOutput'>log</a> for further details."
     ]
    }
   ],
   "source": [
    "#Display everything \n",
    "pd.set_option('display.max_colwidth', None)"
   ]
  },
  {
   "cell_type": "code",
   "execution_count": null,
   "id": "2ccb3692",
   "metadata": {},
   "outputs": [
    {
     "ename": "",
     "evalue": "",
     "output_type": "error",
     "traceback": [
      "\u001b[1;31mFailed to start the Kernel. \n",
      "Unable to start Kernel 'bootcamp (Python 3.7.13)' due to connection timeout. \n",
      "View Jupyter <a href='command:jupyter.viewOutput'>log</a> for further details."
     ]
    }
   ],
   "source": [
    "#Merge df1 with df2 to get new data - Merge on LGA_CODE_2021\n",
    "\n",
    "population_LGA\n",
    "\n",
    "df1 = pd.DataFrame(data1)\n",
    "df2 = pd.DataFrame(data2)\n",
    "\n",
    "newdf = df1.merge(df2, how='right')\n"
   ]
  },
  {
   "cell_type": "code",
   "execution_count": null,
   "id": "081049d3",
   "metadata": {},
   "outputs": [
    {
     "ename": "",
     "evalue": "",
     "output_type": "error",
     "traceback": [
      "\u001b[1;31mFailed to start the Kernel. \n",
      "Unable to start Kernel 'bootcamp (Python 3.7.13)' due to connection timeout. \n",
      "View Jupyter <a href='command:jupyter.viewOutput'>log</a> for further details."
     ]
    }
   ],
   "source": [
    "# Count total male / female - API "
   ]
  },
  {
   "cell_type": "code",
   "execution_count": null,
   "id": "5b3b58fc",
   "metadata": {},
   "outputs": [
    {
     "ename": "",
     "evalue": "",
     "output_type": "error",
     "traceback": [
      "\u001b[1;31mFailed to start the Kernel. \n",
      "Unable to start Kernel 'bootcamp (Python 3.7.13)' due to connection timeout. \n",
      "View Jupyter <a href='command:jupyter.viewOutput'>log</a> for further details."
     ]
    }
   ],
   "source": []
  },
  {
   "cell_type": "code",
   "execution_count": null,
   "id": "93efca7c",
   "metadata": {},
   "outputs": [
    {
     "ename": "",
     "evalue": "",
     "output_type": "error",
     "traceback": [
      "\u001b[1;31mFailed to start the Kernel. \n",
      "Unable to start Kernel 'bootcamp (Python 3.7.13)' due to connection timeout. \n",
      "View Jupyter <a href='command:jupyter.viewOutput'>log</a> for further details."
     ]
    }
   ],
   "source": []
  },
  {
   "cell_type": "code",
   "execution_count": null,
   "id": "d0244306",
   "metadata": {},
   "outputs": [
    {
     "ename": "",
     "evalue": "",
     "output_type": "error",
     "traceback": [
      "\u001b[1;31mFailed to start the Kernel. \n",
      "Unable to start Kernel 'bootcamp (Python 3.7.13)' due to connection timeout. \n",
      "View Jupyter <a href='command:jupyter.viewOutput'>log</a> for further details."
     ]
    }
   ],
   "source": []
  },
  {
   "cell_type": "code",
   "execution_count": null,
   "id": "ea641245",
   "metadata": {},
   "outputs": [
    {
     "ename": "",
     "evalue": "",
     "output_type": "error",
     "traceback": [
      "\u001b[1;31mFailed to start the Kernel. \n",
      "Unable to start Kernel 'bootcamp (Python 3.7.13)' due to connection timeout. \n",
      "View Jupyter <a href='command:jupyter.viewOutput'>log</a> for further details."
     ]
    }
   ],
   "source": []
  },
  {
   "cell_type": "code",
   "execution_count": null,
   "id": "28c2acc8",
   "metadata": {},
   "outputs": [
    {
     "ename": "",
     "evalue": "",
     "output_type": "error",
     "traceback": [
      "\u001b[1;31mFailed to start the Kernel. \n",
      "Unable to start Kernel 'bootcamp (Python 3.7.13)' due to connection timeout. \n",
      "View Jupyter <a href='command:jupyter.viewOutput'>log</a> for further details."
     ]
    }
   ],
   "source": []
  },
  {
   "cell_type": "code",
   "execution_count": null,
   "id": "4a9c0e69",
   "metadata": {},
   "outputs": [
    {
     "ename": "",
     "evalue": "",
     "output_type": "error",
     "traceback": [
      "\u001b[1;31mFailed to start the Kernel. \n",
      "Unable to start Kernel 'bootcamp (Python 3.7.13)' due to connection timeout. \n",
      "View Jupyter <a href='command:jupyter.viewOutput'>log</a> for further details."
     ]
    }
   ],
   "source": []
  },
  {
   "cell_type": "code",
   "execution_count": null,
   "id": "a5708c06",
   "metadata": {},
   "outputs": [
    {
     "ename": "",
     "evalue": "",
     "output_type": "error",
     "traceback": [
      "\u001b[1;31mFailed to start the Kernel. \n",
      "Unable to start Kernel 'bootcamp (Python 3.7.13)' due to connection timeout. \n",
      "View Jupyter <a href='command:jupyter.viewOutput'>log</a> for further details."
     ]
    }
   ],
   "source": []
  }
 ],
 "metadata": {
  "kernelspec": {
   "display_name": "Python 3.7.13 ('bootcamp')",
   "language": "python",
   "name": "python3"
  },
  "language_info": {
   "codemirror_mode": {
    "name": "ipython",
    "version": 3
   },
   "file_extension": ".py",
   "mimetype": "text/x-python",
   "name": "python",
   "nbconvert_exporter": "python",
   "pygments_lexer": "ipython3",
   "version": "3.7.13"
  },
  "vscode": {
   "interpreter": {
    "hash": "f6efcccb7124db463d88db4d64920010147f11135d8024bfa4947c9ad4359cd1"
   }
  }
 },
 "nbformat": 4,
 "nbformat_minor": 5
}
